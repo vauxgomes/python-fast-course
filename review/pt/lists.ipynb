{
 "cells": [
  {
   "cell_type": "markdown",
   "metadata": {
    "slideshow": {
     "slide_type": "slide"
    }
   },
   "source": [
    "---\n",
    "\n",
    "![Header](img/lists-header.png)\n",
    "\n",
    "---\n",
    "\n",
    "# Listas\n",
    "\n",
    " - Coleções de itens\n",
    " - Forma simples de armazenar um conjunto de variáveis.\n",
    " \n",
    " \n",
    "## Criação\n",
    "\n",
    " - Função `list()`\n",
    "\n",
    " - Usando colchetes `[ ]`\n",
    "\n",
    "> Este segundo formato é preferível por facilitar, caso a gente queira inicializar a lista com valores."
   ]
  },
  {
   "cell_type": "code",
   "execution_count": 1,
   "metadata": {},
   "outputs": [],
   "source": [
    "# lista 1\n",
    "lista = list()\n",
    "\n",
    "# lista 2\n",
    "lista = []"
   ]
  },
  {
   "cell_type": "code",
   "execution_count": 2,
   "metadata": {},
   "outputs": [
    {
     "name": "stdout",
     "output_type": "stream",
     "text": [
      "['red', 'green', 'blue', 'yellow', 'white', 'black']\n"
     ]
    }
   ],
   "source": [
    "# cores\n",
    "cores = ['red', 'green', 'blue', 'yellow', 'white', 'black']\n",
    "\n",
    "print(cores)"
   ]
  },
  {
   "cell_type": "code",
   "execution_count": 3,
   "metadata": {},
   "outputs": [],
   "source": [
    "# tipos mistos\n",
    "mista = [1, 'string', [3, 14]]"
   ]
  },
  {
   "cell_type": "markdown",
   "metadata": {},
   "source": [
    "## Acessando Valores\n",
    "\n",
    " - Para cada valor da lista, existe um índice associado\n",
    "\n",
    "### Indexação positiva\n",
    "\n",
    "![Positive Indexing](img/lists-positive-indexes.png)\n",
    "\n",
    "### Indexação negativa\n",
    "\n",
    "![Negative Indexing](img/lists-negative-indexes.png)"
   ]
  },
  {
   "cell_type": "code",
   "execution_count": 4,
   "metadata": {},
   "outputs": [
    {
     "name": "stdout",
     "output_type": "stream",
     "text": [
      "green\n"
     ]
    }
   ],
   "source": [
    "# I-ésimo item da lista\n",
    "print(cores[1])"
   ]
  },
  {
   "cell_type": "code",
   "execution_count": 5,
   "metadata": {},
   "outputs": [
    {
     "name": "stdout",
     "output_type": "stream",
     "text": [
      "white\n"
     ]
    }
   ],
   "source": [
    "# Penúltimo item da lista usando indexação negativa\n",
    "print(cores[-2])"
   ]
  },
  {
   "cell_type": "markdown",
   "metadata": {},
   "source": [
    "## Modificação dos valores\n",
    " - Feito de uma forma parecida com a forma como fazemos com variáveis, mas utilizando os índices."
   ]
  },
  {
   "cell_type": "code",
   "execution_count": 6,
   "metadata": {},
   "outputs": [
    {
     "name": "stdout",
     "output_type": "stream",
     "text": [
      "['red', 'verde', 'blue', 'yellow', 'white', 'black']\n"
     ]
    }
   ],
   "source": [
    "# Mudar 'green' para 'verde'\n",
    "cores[1] = 'verde'\n",
    "print(cores)"
   ]
  },
  {
   "cell_type": "code",
   "execution_count": 7,
   "metadata": {},
   "outputs": [
    {
     "name": "stdout",
     "output_type": "stream",
     "text": [
      "['red', 'verde', 'blue', 'yellow', 'branco', 'black']\n"
     ]
    }
   ],
   "source": [
    "# Mudar 'white' para 'branco' usando indexação negativa\n",
    "cores[-2] = 'branco'\n",
    "print(cores)"
   ]
  },
  {
   "cell_type": "markdown",
   "metadata": {},
   "source": [
    "## Adicionando/Removendo valores\n",
    "\n",
    "### append\n",
    "Usada para adicionar itens no final da lista\n",
    "\n",
    " - `.append(ITEM)`"
   ]
  },
  {
   "cell_type": "code",
   "execution_count": 8,
   "metadata": {},
   "outputs": [
    {
     "name": "stdout",
     "output_type": "stream",
     "text": [
      "['red', 'verde', 'blue', 'yellow', 'branco', 'black', 'gray']\n"
     ]
    }
   ],
   "source": [
    "# Adicione 'gray' no final da lista\n",
    "cores.append('gray')\n",
    "print(cores)"
   ]
  },
  {
   "cell_type": "markdown",
   "metadata": {},
   "source": [
    "### Insert\n",
    "Usada para adicionar itens em qualquer posição da lista\n",
    "\n",
    " - `.insert(ÍNDICE, ITEM)`"
   ]
  },
  {
   "cell_type": "code",
   "execution_count": 9,
   "metadata": {},
   "outputs": [
    {
     "name": "stdout",
     "output_type": "stream",
     "text": [
      "['red', 'orange', 'verde', 'blue', 'yellow', 'branco', 'black', 'gray']\n"
     ]
    }
   ],
   "source": [
    "# Adicione 'orange' na segunda posição\n",
    "cores.insert(1, 'orange')\n",
    "print(cores)"
   ]
  },
  {
   "cell_type": "markdown",
   "metadata": {},
   "source": [
    "### pop\n",
    "Remove e retorna um elemento da lista\n",
    "\n",
    " - `.pop()`: Remove o último\n",
    " - `.pop(ÍNDICE)`"
   ]
  },
  {
   "cell_type": "code",
   "execution_count": 10,
   "metadata": {},
   "outputs": [
    {
     "name": "stdout",
     "output_type": "stream",
     "text": [
      "['red', 'orange', 'verde', 'blue', 'yellow', 'branco', 'black']\n"
     ]
    }
   ],
   "source": [
    "# Remove o último item da lista\n",
    "cores.pop()\n",
    "print(cores)"
   ]
  },
  {
   "cell_type": "code",
   "execution_count": 11,
   "metadata": {},
   "outputs": [
    {
     "name": "stdout",
     "output_type": "stream",
     "text": [
      "['orange', 'verde', 'blue', 'yellow', 'branco', 'black']\n",
      "A cor removida foi red\n"
     ]
    }
   ],
   "source": [
    "# Remova o primeiro item da lista\n",
    "cor = cores.pop(0)\n",
    "print(cores)\n",
    "\n",
    "print('A cor removida foi', cor)"
   ]
  }
 ],
 "metadata": {
  "kernelspec": {
   "display_name": "Python 3 (ipykernel)",
   "language": "python",
   "name": "python3"
  },
  "language_info": {
   "codemirror_mode": {
    "name": "ipython",
    "version": 3
   },
   "file_extension": ".py",
   "mimetype": "text/x-python",
   "name": "python",
   "nbconvert_exporter": "python",
   "pygments_lexer": "ipython3",
   "version": "3.8.10"
  }
 },
 "nbformat": 4,
 "nbformat_minor": 4
}
