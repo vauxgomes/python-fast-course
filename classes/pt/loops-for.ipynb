{
 "cells": [
  {
   "cell_type": "markdown",
   "metadata": {},
   "source": [
    "\n",
    "# Laços de repetição\n",
    "\n",
    "## Laço `for`\n",
    "\n",
    "O `for` é usado para iterar sobre uma coleção de dados como _listas_, _tuplas_, _dicionários_, _conjuntos_ e _strings_.\n",
    "\n",
    "> Novamente, a indentação é importante quando estamos usado o `for`\n",
    "\n",
    "### Estrutura\n",
    "\n",
    "![https://www.learnbyexample.org/](img/loops/for-syntax.png)\n",
    "\n",
    "### Exemplo simples\n",
    "\n",
    "O exemplo abaixo imprime cada uma das cores por vez a cada **iteração** do laço."
   ]
  },
  {
   "cell_type": "code",
   "execution_count": 1,
   "metadata": {
    "scrolled": false
   },
   "outputs": [
    {
     "name": "stdout",
     "output_type": "stream",
     "text": [
      "red\n",
      "green\n",
      "blue\n",
      "yellow\n"
     ]
    }
   ],
   "source": [
    "colors = ['red', 'green', 'blue', 'yellow']\n",
    "for x in colors:\n",
    "    print(x)"
   ]
  },
  {
   "cell_type": "markdown",
   "metadata": {},
   "source": [
    "### Else no for\n",
    "\n",
    "Python permite uma cláusula `else` opcional no fim do laço `for`. O `else` será executado caso o laço termine naturalmente, isto é sem que haja uma quebra (`break`) ou um erro em seu interior."
   ]
  },
  {
   "cell_type": "code",
   "execution_count": 6,
   "metadata": {},
   "outputs": [
    {
     "name": "stdout",
     "output_type": "stream",
     "text": [
      "red\n",
      "green\n"
     ]
    }
   ],
   "source": [
    "colors = ['red', 'green', 'blue', 'yellow']\n",
    "for x in colors:\n",
    "    if x == 'blue':\n",
    "        break\n",
    "    print(x)\n",
    "else:\n",
    "    print('Done!') # Não será executado"
   ]
  },
  {
   "cell_type": "markdown",
   "metadata": {},
   "source": [
    "### A função `range()`\n",
    "\n",
    "O Python provê uma função para quando precisamos executar instruções por um número específico de vezes.\n",
    "\n",
    "A função `range(inicio, fim, passo)` gera uma sequência de números iteráveis. Em versões passadas do python esta função gerava uma lista de valores, mas esta prática consome memória desnecessáriamente.\n",
    "\n",
    "- O último valor é **não incluso**"
   ]
  },
  {
   "cell_type": "code",
   "execution_count": 12,
   "metadata": {},
   "outputs": [
    {
     "name": "stdout",
     "output_type": "stream",
     "text": [
      "(py3): range(0, 10)\n",
      "(py2): [0, 1, 2, 3, 4, 5, 6, 7, 8, 9]\n"
     ]
    }
   ],
   "source": [
    "print('(py3):', range(10))\n",
    "print('(py2):', list(range(10)))"
   ]
  },
  {
   "cell_type": "code",
   "execution_count": 14,
   "metadata": {},
   "outputs": [
    {
     "name": "stdout",
     "output_type": "stream",
     "text": [
      "Olá IFCE!\n",
      "Olá IFCE!\n",
      "Olá IFCE!\n"
     ]
    }
   ],
   "source": [
    "for x in range(3):\n",
    "    print('Olá IFCE!')"
   ]
  },
  {
   "cell_type": "code",
   "execution_count": 16,
   "metadata": {},
   "outputs": [
    {
     "name": "stdout",
     "output_type": "stream",
     "text": [
      "2\n",
      "3\n",
      "4\n",
      "5\n",
      "6\n"
     ]
    }
   ],
   "source": [
    "for x in range(2, 7):\n",
    "    print(x)"
   ]
  },
  {
   "cell_type": "code",
   "execution_count": 19,
   "metadata": {},
   "outputs": [
    {
     "name": "stdout",
     "output_type": "stream",
     "text": [
      "-5\n",
      "-4\n",
      "-3\n",
      "-2\n",
      "-1\n"
     ]
    }
   ],
   "source": [
    "for x in range(-5, 0):\n",
    "    print(x)"
   ]
  },
  {
   "cell_type": "code",
   "execution_count": 20,
   "metadata": {},
   "outputs": [
    {
     "name": "stdout",
     "output_type": "stream",
     "text": [
      "2\n",
      "4\n",
      "6\n"
     ]
    }
   ],
   "source": [
    "for x in range(2, 7, 2):\n",
    "    print(x)"
   ]
  },
  {
   "cell_type": "code",
   "execution_count": 25,
   "metadata": {},
   "outputs": [
    {
     "name": "stdout",
     "output_type": "stream",
     "text": [
      "10, 8, 6, 4, 2, 0, -2, -4, -6, -8, -10, -12, -14, -16, -18, -20, -22, -24, -26, -28, -30, -32, -34, -36, -38, -40, -42, -44, -46, -48, -50, -52, -54, -56, -58, -60, -62, -64, -66, -68, -70, -72, -74, -76, -78, -80, -82, -84, -86, -88, -90, -92, -94, -96, -98, "
     ]
    }
   ],
   "source": [
    "for x in range(10, -100, -2):\n",
    "    print(x, end=', ')"
   ]
  },
  {
   "cell_type": "markdown",
   "metadata": {},
   "source": [
    "### Acessando valores pelo índices\n",
    "\n",
    "Usando `len()` e `range()` é possível acessar os valores de uma lista por meio de seus índices. Esta prática é particularmente interessante quando queremos:\n",
    "\n",
    "- Exibir o índice na tela,\n",
    "- Acessar um ou mais índices (janela de valores)\n",
    "- Realizar algum cálculo com o valor do índice,\n",
    "- Etc."
   ]
  },
  {
   "cell_type": "code",
   "execution_count": 35,
   "metadata": {},
   "outputs": [
    {
     "name": "stdout",
     "output_type": "stream",
     "text": [
      "0 v\n",
      "1 aa\n",
      "2 uuu\n",
      "3 xxxx\n",
      "4 .....\n",
      "5 pppppp\n",
      "6 yyyyyyy\n"
     ]
    }
   ],
   "source": [
    "letters = list('vaux.py')\n",
    "\n",
    "for l in range(len(letters)):\n",
    "    print(l, (l+1)*letters[l])"
   ]
  },
  {
   "cell_type": "code",
   "execution_count": 34,
   "metadata": {},
   "outputs": [
    {
     "name": "stdout",
     "output_type": "stream",
     "text": [
      "0 \n",
      "1 v\n",
      "2 va\n",
      "3 vau\n",
      "4 vaux\n",
      "5 vaux.\n",
      "6 vaux.p\n",
      "7 vaux.py\n"
     ]
    }
   ],
   "source": [
    "for l in range(len(letters)+1):\n",
    "    print(l, ''.join(letters[:l]))"
   ]
  },
  {
   "cell_type": "markdown",
   "metadata": {},
   "source": [
    "#### `enumerate()`\n",
    "\n",
    "Outra forma de acessar os índices é por meio da função `enumerate()`. Esta funçõo retorna uma tupla contendo o índice e o valor da lista naquele índice."
   ]
  },
  {
   "cell_type": "code",
   "execution_count": 37,
   "metadata": {},
   "outputs": [
    {
     "name": "stdout",
     "output_type": "stream",
     "text": [
      "0 red\n",
      "1 green\n",
      "2 blue\n"
     ]
    }
   ],
   "source": [
    "colors = ['red', 'green', 'blue']\n",
    "for index, value in enumerate(colors):\n",
    "    print(index, value)"
   ]
  },
  {
   "cell_type": "markdown",
   "metadata": {},
   "source": [
    "### Outras possibilidades"
   ]
  },
  {
   "cell_type": "code",
   "execution_count": 40,
   "metadata": {},
   "outputs": [
    {
     "name": "stdout",
     "output_type": "stream",
     "text": [
      "1 red\n",
      "2 green\n",
      "3 blue\n"
     ]
    }
   ],
   "source": [
    "colors = [(1, 'red'), (2, 'green'), (3, 'blue')]\n",
    "for i, x in colors:\n",
    "    print(i, x)"
   ]
  },
  {
   "cell_type": "code",
   "execution_count": 43,
   "metadata": {},
   "outputs": [
    {
     "name": "stdout",
     "output_type": "stream",
     "text": [
      "name red\n",
      "code 25\n"
     ]
    }
   ],
   "source": [
    "d = {'name': 'red', 'code': 25}\n",
    "for x, y in d.items():\n",
    "    print(x, y)"
   ]
  },
  {
   "cell_type": "markdown",
   "metadata": {},
   "source": [
    "### Laços em mais de uma lista\n",
    "\n",
    "Usando a função `zip()` nós podemos iterar sobre múltiplas listas ao mesmo tempo:"
   ]
  },
  {
   "cell_type": "code",
   "execution_count": 62,
   "metadata": {},
   "outputs": [
    {
     "name": "stdout",
     "output_type": "stream",
     "text": [
      "red s1000\n",
      "green s300\n",
      "blue alpha\n"
     ]
    }
   ],
   "source": [
    "filter_ = ['s1000', 's300', 'alpha']\n",
    "colors = ['red', 'green', 'blue', 'orange']\n",
    "\n",
    "for x, y in zip(colors, filter_): # O total de iteração é dado pela menor lista\n",
    "    print(x, y)"
   ]
  },
  {
   "cell_type": "markdown",
   "metadata": {},
   "source": [
    "### Laços aninhado (nesting)\n",
    "\n",
    "Quando temos laço dentro de laço chamamos de laços aninhados."
   ]
  },
  {
   "cell_type": "code",
   "execution_count": 54,
   "metadata": {},
   "outputs": [
    {
     "name": "stdout",
     "output_type": "stream",
     "text": [
      "Index: 0\n",
      "  a,   b,   c, \n",
      "Index: 1\n",
      "  d,   e,   f, \n",
      "Index: 2\n",
      "  g,   h,   i, \n"
     ]
    }
   ],
   "source": [
    "matrix = [\n",
    "    ['a', 'b', 'c'], \n",
    "    ['d', 'e', 'f'], \n",
    "    ['g','h', 'i']\n",
    "]\n",
    "\n",
    "for i, val in enumerate(matrix):\n",
    "    print('Index:', i)\n",
    "    \n",
    "    for l in val:\n",
    "        print(' ', l, end=', ')\n",
    "    else:\n",
    "        print()"
   ]
  },
  {
   "cell_type": "markdown",
   "metadata": {},
   "source": [
    "### Modificando listas durante a iteração\n",
    "\n",
    "Não é indicado que alteremos a lista que estamos iterando pois isso pode criar um loop infinito (no melhor dos casos)."
   ]
  },
  {
   "cell_type": "code",
   "execution_count": 55,
   "metadata": {},
   "outputs": [
    {
     "name": "stderr",
     "output_type": "stream",
     "text": [
      "IOPub data rate exceeded.\n",
      "The notebook server will temporarily stop sending output\n",
      "to the client in order to avoid crashing it.\n",
      "To change this limit, set the config variable\n",
      "`--NotebookApp.iopub_data_rate_limit`.\n",
      "\n",
      "Current values:\n",
      "NotebookApp.iopub_data_rate_limit=1000000.0 (bytes/sec)\n",
      "NotebookApp.rate_limit_window=3.0 (secs)\n",
      "\n"
     ]
    },
    {
     "ename": "KeyboardInterrupt",
     "evalue": "",
     "output_type": "error",
     "traceback": [
      "\u001b[0;31m---------------------------------------------------------------------------\u001b[0m",
      "\u001b[0;31mKeyboardInterrupt\u001b[0m                         Traceback (most recent call last)",
      "Input \u001b[0;32mIn [55]\u001b[0m, in \u001b[0;36m<cell line: 2>\u001b[0;34m()\u001b[0m\n\u001b[1;32m      3\u001b[0m \u001b[38;5;28;01mif\u001b[39;00m x \u001b[38;5;241m==\u001b[39m \u001b[38;5;124m'\u001b[39m\u001b[38;5;124mred\u001b[39m\u001b[38;5;124m'\u001b[39m:\n\u001b[1;32m      4\u001b[0m     colors\u001b[38;5;241m.\u001b[39minsert(\u001b[38;5;241m0\u001b[39m, \u001b[38;5;124m'\u001b[39m\u001b[38;5;124morange\u001b[39m\u001b[38;5;124m'\u001b[39m)\n\u001b[0;32m----> 5\u001b[0m     \u001b[38;5;28;43mprint\u001b[39;49m\u001b[43m(\u001b[49m\u001b[43mcolors\u001b[49m\u001b[43m)\u001b[49m\n",
      "\u001b[0;31mKeyboardInterrupt\u001b[0m: "
     ]
    }
   ],
   "source": [
    "colors = ['red', 'green', 'blue']\n",
    "for x in colors:\n",
    "    if x == 'red':\n",
    "        colors.insert(0, 'orange') # Inserindo valor no início da lista\n",
    "        print(colors)"
   ]
  },
  {
   "cell_type": "markdown",
   "metadata": {},
   "source": [
    "É mais recomendado realizar uma cópia da lista antes."
   ]
  },
  {
   "cell_type": "markdown",
   "metadata": {},
   "source": [
    "## Exercícios\n",
    "\n",
    "Desenvolva um gerador de tabuada, capaz de gerar a tabuada de qualquer número inteiro entre 1 a 10. O usuário deve informar de qual numero ele deseja ver a tabuada. A saída deve ser conforme o exemplo abaixo:\n",
    "\n",
    "```\n",
    "Tabuada de 5:\n",
    "\n",
    "5 X 1 = 5\n",
    "5 X 2 = 10\n",
    "...\n",
    "5 X 10 = 50\n",
    "```"
   ]
  },
  {
   "cell_type": "code",
   "execution_count": null,
   "metadata": {},
   "outputs": [],
   "source": []
  },
  {
   "cell_type": "markdown",
   "metadata": {},
   "source": [
    "Desenvolver um programa para verificar a nota do aluno em uma prova com 5 questões. O programa deve perguntar ao aluno a resposta de cada questão e ao final comparar com o gabarito da prova e assim calcular o total de acertos e a nota (atribuir 1 ponto por resposta certa):\n",
    "\n",
    "```\n",
    "Gabarito:\n",
    "\n",
    "01 - A\n",
    "02 - B\n",
    "03 - C\n",
    "04 - D\n",
    "05 - E\n",
    "```"
   ]
  },
  {
   "cell_type": "code",
   "execution_count": null,
   "metadata": {},
   "outputs": [],
   "source": []
  }
 ],
 "metadata": {
  "kernelspec": {
   "display_name": "Python 3 (ipykernel)",
   "language": "python",
   "name": "python3"
  },
  "language_info": {
   "codemirror_mode": {
    "name": "ipython",
    "version": 3
   },
   "file_extension": ".py",
   "mimetype": "text/x-python",
   "name": "python",
   "nbconvert_exporter": "python",
   "pygments_lexer": "ipython3",
   "version": "3.8.10"
  }
 },
 "nbformat": 4,
 "nbformat_minor": 2
}
