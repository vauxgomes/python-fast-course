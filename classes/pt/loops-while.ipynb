{
 "cells": [
  {
   "cell_type": "markdown",
   "metadata": {},
   "source": [
    "\n",
    "# Laços de repetição\n",
    "\n",
    "## Laço `while`\n",
    "\n",
    "O `for` é usado para iterar um número indefinido de vezes. Isto é, até que uma condição seja atendida.\n",
    "\n",
    "### Estrutura\n",
    "\n",
    "![https://www.learnbyexample.org/](img/loops/while-syntax.png)\n",
    "\n",
    "### Exemplo simples\n",
    "\n",
    "O laço abaixo é executado até que `x` se torne 0. "
   ]
  },
  {
   "cell_type": "code",
   "execution_count": 4,
   "metadata": {
    "scrolled": false
   },
   "outputs": [
    {
     "name": "stdout",
     "output_type": "stream",
     "text": [
      "6\n",
      "5\n",
      "4\n",
      "3\n",
      "2\n",
      "1\n"
     ]
    }
   ],
   "source": [
    "# 0 é considerado um valor falso\n",
    "\n",
    "x = 6\n",
    "while x:\n",
    "    print(x)\n",
    "    x -= 1"
   ]
  },
  {
   "cell_type": "code",
   "execution_count": 6,
   "metadata": {},
   "outputs": [
    {
     "name": "stdout",
     "output_type": "stream",
     "text": [
      "blue\n",
      "green\n",
      "red\n"
     ]
    }
   ],
   "source": [
    "# Executando até que a lista esteja vazia\n",
    "colors = ['red', 'green', 'blue']\n",
    "\n",
    "while colors:\n",
    "    print(colors.pop())"
   ]
  },
  {
   "cell_type": "code",
   "execution_count": 8,
   "metadata": {},
   "outputs": [
    {
     "name": "stdout",
     "output_type": "stream",
     "text": [
      "vaux.py\n",
      "aux.py\n",
      "ux.py\n",
      "x.py\n",
      ".py\n",
      "py\n",
      "y\n"
     ]
    }
   ],
   "source": [
    "# Executando até que a string esteja vazia\n",
    "x = 'vaux.py'\n",
    "\n",
    "while x:\n",
    "    print(x)\n",
    "    x = x[1:] # Removendo a primeira letra"
   ]
  },
  {
   "cell_type": "markdown",
   "metadata": {},
   "source": [
    "#### A condição sempre é verificada\n",
    "\n",
    "Se, no início da execução, a condição do laço for falsa, então os comandos dentro do laço não serão executados."
   ]
  },
  {
   "cell_type": "code",
   "execution_count": 9,
   "metadata": {},
   "outputs": [],
   "source": [
    "x = 0\n",
    "while x:\n",
    "    print(x)\n",
    "    x -= 1"
   ]
  },
  {
   "cell_type": "markdown",
   "metadata": {},
   "source": [
    "### `break` & `continue`\n",
    "\n",
    "O comando `break` é usado para **sair do laço imediatamente**. O programa segue o fluxo normal após o laço."
   ]
  },
  {
   "cell_type": "code",
   "execution_count": 13,
   "metadata": {},
   "outputs": [
    {
     "name": "stdout",
     "output_type": "stream",
     "text": [
      "6\n",
      "5\n",
      "4\n",
      "...Fluxo normal\n"
     ]
    }
   ],
   "source": [
    "x = 6\n",
    "while x:\n",
    "    print(x)\n",
    "    x -= 1\n",
    "    \n",
    "    if x == 3:\n",
    "        break\n",
    "        \n",
    "print('...Fluxo normal')"
   ]
  },
  {
   "cell_type": "markdown",
   "metadata": {},
   "source": [
    "O `break` funciona apenas para o laço que o chamou. \n",
    "\n",
    "No exemplo abaixo queremos imprimimos  10 `*` com o laço interno `for`. Sempre que o valor de `x` for par nós quebramos o laço interno. Quando `x` for igua a 3 quebramos o laço externo."
   ]
  },
  {
   "cell_type": "code",
   "execution_count": 47,
   "metadata": {},
   "outputs": [
    {
     "name": "stdout",
     "output_type": "stream",
     "text": [
      "8\t*\n",
      "7\t**********\n",
      "6\t*\n",
      "5\t**********\n",
      "4\t*\n"
     ]
    }
   ],
   "source": [
    "x = 8\n",
    "\n",
    "# Nível 1\n",
    "while x:\n",
    "    print(x, end='\\t')\n",
    "    x -= 1\n",
    "    \n",
    "    for i in range(10):\n",
    "        print('*', end='')\n",
    "        \n",
    "        if x % 2 != 0: break\n",
    "        \n",
    "    print()\n",
    "    \n",
    "    if x == 3: break"
   ]
  },
  {
   "cell_type": "markdown",
   "metadata": {},
   "source": [
    "O comando `continue` pula a iteração do laço e segue para a próxima."
   ]
  },
  {
   "cell_type": "code",
   "execution_count": 50,
   "metadata": {},
   "outputs": [
    {
     "name": "stdout",
     "output_type": "stream",
     "text": [
      "4\n",
      "2\n",
      "0\n",
      "teste\n"
     ]
    }
   ],
   "source": [
    "x = 6\n",
    "while x:\n",
    "    x -= 1\n",
    "    \n",
    "    # Pulando os números ímpares\n",
    "    if x % 2 != 0: continue\n",
    "        \n",
    "    print(x)"
   ]
  },
  {
   "cell_type": "markdown",
   "metadata": {},
   "source": [
    "### `else` no laço `while`\n",
    "\n",
    "O `else` é uma cláusula opciona do laço `while`. A cláusula não é executada se o laço for quebrado (`break`)."
   ]
  },
  {
   "cell_type": "code",
   "execution_count": 51,
   "metadata": {},
   "outputs": [
    {
     "name": "stdout",
     "output_type": "stream",
     "text": [
      "6\n",
      "5\n",
      "4\n",
      "3\n",
      "2\n",
      "1\n",
      "Fim!\n"
     ]
    }
   ],
   "source": [
    "x = 6\n",
    "while x:\n",
    "    print(x)\n",
    "    x -= 1\n",
    "else:\n",
    "    print('Fim!')"
   ]
  },
  {
   "cell_type": "markdown",
   "metadata": {},
   "source": [
    "## Exercícios\n",
    "\n",
    "Faça um programa que leia e valide as seguintes informações:\n",
    "- Nome: maior que 3 caracteres;\n",
    "- Idade: entre 0 e 150;\n",
    "- Salário: maior que zero;\n",
    "- Sexo: 'f' ou 'm';\n",
    "- Estado Civil: 's', 'c', 'v', 'd';"
   ]
  },
  {
   "cell_type": "code",
   "execution_count": null,
   "metadata": {},
   "outputs": [],
   "source": []
  }
 ],
 "metadata": {
  "kernelspec": {
   "display_name": "Python 3 (ipykernel)",
   "language": "python",
   "name": "python3"
  },
  "language_info": {
   "codemirror_mode": {
    "name": "ipython",
    "version": 3
   },
   "file_extension": ".py",
   "mimetype": "text/x-python",
   "name": "python",
   "nbconvert_exporter": "python",
   "pygments_lexer": "ipython3",
   "version": "3.8.10"
  }
 },
 "nbformat": 4,
 "nbformat_minor": 2
}
